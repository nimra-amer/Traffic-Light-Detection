{
 "cells": [
  {
   "cell_type": "markdown",
   "id": "1986f48d-d6b5-4a27-817e-4eb1131dd3e5",
   "metadata": {},
   "source": [
    "# <<  Part 3  Machine Learning Model>>"
   ]
  },
  {
   "cell_type": "markdown",
   "id": "14f5666f-e426-4831-b266-efd84244e18a",
   "metadata": {},
   "source": [
    "##         Libraries"
   ]
  },
  {
   "cell_type": "code",
   "execution_count": 27,
   "metadata": {},
   "outputs": [],
   "source": [
    "import os\n",
    "import cv2\n",
    "import seaborn\n",
    "import matplotlib.pyplot as plt\n",
    "from sklearn.linear_model import LogisticRegression\n",
    "from sklearn.model_selection import train_test_split\n",
    "from sklearn.metrics import accuracy_score\n",
    "from sklearn.preprocessing import StandardScaler\n",
    "from sklearn.metrics import confusion_matrix"
   ]
  },
  {
   "cell_type": "markdown",
   "id": "5f476294-cfad-4e1a-b695-43d7e0c56dce",
   "metadata": {},
   "source": [
    "##  3.1 Data  Augmentation..."
   ]
  },
  {
   "cell_type": "markdown",
   "metadata": {},
   "source": [
    "For Trainning Set"
   ]
  },
  {
   "cell_type": "code",
   "execution_count": 6,
   "id": "62d435bb-9f3a-4c9c-b165-1d278397164f",
   "metadata": {},
   "outputs": [],
   "source": [
    "image_folder = r\"C:\\Users\\Nimra Amer\\Desktop\\project\\traffic_lights_3\\train\\images(train)\" #For Trainning Set\n",
    "\n",
    "# Iterate over each file in the folder\n",
    "for filename in os.listdir(image_folder):\n",
    "    if filename.endswith(\".jpeg\") or filename.endswith(\".jpg\") or filename.endswith(\".png\"):\n",
    "        # Read the original image\n",
    "        image_path = os.path.join(image_folder, filename)\n",
    "        original_image = cv2.imread(image_path)\n",
    "\n",
    "        # Determine orientation\n",
    "        orientation = determine_traffic_signal_orientation(image_path)\n",
    "\n",
    "        # Apply orientation-aware augmentation\n",
    "        augmented_image = apply_orientation_aware_augmentation(original_image, orientation)\n",
    "\n",
    "        # Adjust brightness and contrast\n",
    "        brightness_factor = 1.5  # Adjust as needed\n",
    "        contrast_factor = 1.2    # Adjust as needed\n",
    "        adjusted_image = adjust_brightness_contrast(augmented_image, brightness_factor, contrast_factor)\n",
    "\n",
    "        # Apply orientation-aware augmentation again (if needed)\n",
    "        result_image_train = apply_orientation_aware_augmentation(adjusted_image, orientation)"
   ]
  },
  {
   "cell_type": "markdown",
   "metadata": {},
   "source": [
    "For Testing Set"
   ]
  },
  {
   "cell_type": "code",
   "execution_count": 7,
   "metadata": {},
   "outputs": [],
   "source": [
    "image_folder = r'C:\\Users\\Nimra Amer\\Desktop\\project\\traffic_lights_3\\test\\images2(test)' #For Testing Set\n",
    "\n",
    "# Iterate over each file in the folder\n",
    "for filename in os.listdir(image_folder):\n",
    "    if filename.endswith(\".jpeg\") or filename.endswith(\".jpg\") or filename.endswith(\".png\"):\n",
    "        # Read the original image\n",
    "        image_path = os.path.join(image_folder, filename)\n",
    "        original_image = cv2.imread(image_path)\n",
    "\n",
    "        # Determine orientation\n",
    "        orientation = determine_traffic_signal_orientation(image_path)\n",
    "\n",
    "        # Apply orientation-aware augmentation\n",
    "        augmented_image = apply_orientation_aware_augmentation(original_image, orientation)\n",
    "\n",
    "        # Adjust brightness and contrast\n",
    "        brightness_factor = 1.5  # Adjust as needed\n",
    "        contrast_factor = 1.2    # Adjust as needed\n",
    "        adjusted_image = adjust_brightness_contrast(augmented_image, brightness_factor, contrast_factor)\n",
    "\n",
    "        # Apply orientation-aware augmentation again (if needed)\n",
    "        result_image_test = apply_orientation_aware_augmentation(adjusted_image, orientation)\n"
   ]
  },
  {
   "cell_type": "markdown",
   "metadata": {},
   "source": [
    "Logistic Regression for Augumented Image"
   ]
  },
  {
   "cell_type": "code",
   "execution_count": 12,
   "metadata": {},
   "outputs": [
    {
     "name": "stdout",
     "output_type": "stream",
     "text": [
      "Accuracy :  80.0 %\n",
      "Accuracy of The Testing Images: 5.460750853242321 %\n"
     ]
    }
   ],
   "source": [
    "def load_labels_from_folder(folder):\n",
    "    labels = []\n",
    "    for filename in os.listdir(folder):\n",
    "        path = os.path.join(folder, filename)\n",
    "        label = int('signal' in filename)  #Distribution in classes\n",
    "        labels.append(label)\n",
    "    return np.array(labels)\n",
    "\n",
    "# Paths for training and testing labels\n",
    "train_labels_folder = r\"C:\\Users\\Nimra Amer\\Desktop\\project\\traffic_lights_3\\train\\labels\"\n",
    "test_labels_folder = r\"C:\\Users\\Nimra Amer\\Desktop\\project\\traffic_lights_3\\test\\labels\"\n",
    "\n",
    "# Load labels\n",
    "y_train = load_labels_from_folder(train_labels_folder)\n",
    "y_test = load_labels_from_folder(test_labels_folder)\n",
    "\n",
    "# Check if labels were loaded\n",
    "if len(y_train) == 0 or len(y_test) == 0:\n",
    "    print(\"No labels found in the specified folders.\")\n",
    "else:\n",
    "    scaler = StandardScaler()    # Resizing and Flattening the images to get the efficient output\n",
    "    new_width, new_height = 100, 100  \n",
    "    flattened_images_train = [cv2.resize(img, (new_width, new_height)).flatten() for img in result_image_train]\n",
    "    flattened_images_test = [cv2.resize(img, (new_width, new_height)).flatten() for img in result_image_test]\n",
    "\n",
    "    X_train_scaled = scaler.fit_transform(flattened_images_train)\n",
    "    X_test_scaled = scaler.transform(flattened_images_test)\n",
    "\n",
    "    # Ensure the number of labels matches the number of samples\n",
    "    y_train = y_train[:len(X_train_scaled)]\n",
    "\n",
    "    X_train_final, X_val, y_train_final, y_val = train_test_split(X_train_scaled, y_train, test_size=0.2, random_state=42)\n",
    "\n",
    "    # Implementing Logistic Regression\n",
    "    model = LogisticRegression()\n",
    "    model.fit(X_train_final, y_train_final)\n",
    "    y_pred = model.predict(X_val)\n",
    "\n",
    "    # Evaluating the model\n",
    "    accuracy = accuracy_score(y_val, y_pred)\n",
    "    print(\"Accuracy : \" , accuracy * 100 , \"%\")\n",
    "    \n",
    "    #Test Data\n",
    "    y_test_pred = model.predict(X_test_scaled)\n",
    "    num_augmentations_per_sample = 5  \n",
    "    y_test_pred = np.repeat(y_test_pred, num_augmentations_per_sample)\n",
    "    y_test_pred = y_test_pred[:len(y_test)]\n",
    "\n",
    "    # Evaluate the model on the testing set\n",
    "    accuracy_test = accuracy_score(y_test, y_test_pred)\n",
    "    print(\"Accuracy of The Testing Images:\", accuracy_test*100 , \"%\")\n"
   ]
  },
  {
   "cell_type": "markdown",
   "id": "bf9e4ae8-f6ed-4542-9692-fdd0456cd0d5",
   "metadata": {},
   "source": [
    "## 3.2  normalization"
   ]
  },
  {
   "cell_type": "markdown",
   "metadata": {},
   "source": [
    "For Trainning Set"
   ]
  },
  {
   "cell_type": "code",
   "execution_count": 15,
   "id": "fac50d39-93ff-4588-acb2-f308f425a523",
   "metadata": {},
   "outputs": [],
   "source": [
    "image_folder = r\"C:\\Users\\Nimra Amer\\Desktop\\project\\traffic_lights_3\\train\\images(train)\" #For Trainning Set\n",
    "\n",
    "for filename in os.listdir(image_folder):\n",
    "    if filename.endswith(\".jpeg\") or filename.endswith(\".jpg\") or filename.endswith(\".png\"):\n",
    "        # Read the original image\n",
    "        image_path = os.path.join(image_folder, filename)\n",
    "        original_image = cv2.imread(image_path)\n",
    "\n",
    "        # Determine orientation\n",
    "        result_normalize_train = pixel_normalization(original_image)"
   ]
  },
  {
   "cell_type": "markdown",
   "metadata": {},
   "source": [
    "For Testing Set"
   ]
  },
  {
   "cell_type": "code",
   "execution_count": 16,
   "metadata": {},
   "outputs": [],
   "source": [
    "image_folder = r'C:\\Users\\Nimra Amer\\Desktop\\project\\traffic_lights_3\\test\\images2(test)' #For Testing Set\n",
    "\n",
    "for filename in os.listdir(image_folder):\n",
    "    if filename.endswith(\".jpeg\") or filename.endswith(\".jpg\") or filename.endswith(\".png\"):\n",
    "        # Read the original image\n",
    "        image_path = os.path.join(image_folder, filename)\n",
    "        original_image = cv2.imread(image_path)\n",
    "\n",
    "        # Determine orientation\n",
    "        result_normalize_test = pixel_normalization(original_image)"
   ]
  },
  {
   "cell_type": "markdown",
   "metadata": {},
   "source": [
    "Logistic Regression For Normalization"
   ]
  },
  {
   "cell_type": "code",
   "execution_count": 18,
   "metadata": {},
   "outputs": [
    {
     "name": "stdout",
     "output_type": "stream",
     "text": [
      "Accuracy :  99.21875 %\n",
      "Accuracy of The Testing Images: 69.28327645051195 %\n"
     ]
    }
   ],
   "source": [
    "def load_labels_from_folder(folder):\n",
    "    labels = []\n",
    "    for filename in os.listdir(folder):\n",
    "        path = os.path.join(folder, filename)\n",
    "        label = int('signal' in filename)  #Distribution in classes\n",
    "        labels.append(label)\n",
    "    return np.array(labels)\n",
    "\n",
    "# Paths for training and testing labels\n",
    "train_labels_folder = r\"C:\\Users\\Nimra Amer\\Desktop\\project\\traffic_lights_3\\train\\labels\"\n",
    "test_labels_folder = r\"C:\\Users\\Nimra Amer\\Desktop\\project\\traffic_lights_3\\test\\labels\"\n",
    "\n",
    "# Load labels\n",
    "y_train = load_labels_from_folder(train_labels_folder)\n",
    "y_test = load_labels_from_folder(test_labels_folder)\n",
    "\n",
    "# Check if labels were loaded\n",
    "if len(y_train) == 0 or len(y_test) == 0:\n",
    "    print(\"No labels found in the specified folders.\")\n",
    "else:\n",
    "    scaler = StandardScaler()    # Resizing and Flattening the images to get the efficient output\n",
    "    new_width, new_height = 100, 100  \n",
    "    flattened_images_train = [cv2.resize(img, (new_width, new_height)).flatten() for img in result_normalize_train]\n",
    "    flattened_images_test = [cv2.resize(img, (new_width, new_height)).flatten() for img in result_normalize_test]\n",
    "\n",
    "    X_train_scaled = scaler.fit_transform(flattened_images_train)\n",
    "    X_test_scaled = scaler.transform(flattened_images_test)\n",
    "\n",
    "    # Ensure the number of labels matches the number of samples\n",
    "    y_train = y_train[:len(X_train_scaled)]\n",
    "\n",
    "    X_train_final, X_val, y_train_final, y_val = train_test_split(X_train_scaled, y_train, test_size=0.2, random_state=42)\n",
    "\n",
    "    # Implementing Logistic Regression\n",
    "    model = LogisticRegression()\n",
    "    model.fit(X_train_final, y_train_final)\n",
    "    y_pred = model.predict(X_val)\n",
    "\n",
    "    # Evaluating the model\n",
    "    accuracy = accuracy_score(y_val, y_pred)\n",
    "    print(\"Accuracy : \" , accuracy*100 , \"%\")\n",
    "\n",
    "    #Test Data\n",
    "    y_test_pred = model.predict(X_test_scaled)\n",
    "    num_normalization_per_sample = 2\n",
    "    y_test_pred = np.repeat(y_test_pred, num_normalization_per_sample)\n",
    "    y_test_pred = y_test_pred[:len(y_test)]\n",
    "\n",
    "    # Evaluate the model on the testing set\n",
    "    accuracy_test = accuracy_score(y_test, y_test_pred)\n",
    "    print(\"Accuracy of The Testing Images:\", accuracy_test*100 , \"%\")\n",
    "\n"
   ]
  },
  {
   "cell_type": "markdown",
   "id": "b29f7663-101a-4227-990e-fd6f63d9d2f4",
   "metadata": {},
   "source": [
    "## 3.3 Anchor Boxes"
   ]
  },
  {
   "cell_type": "markdown",
   "metadata": {},
   "source": [
    "For Trainning Set"
   ]
  },
  {
   "cell_type": "code",
   "execution_count": 21,
   "metadata": {},
   "outputs": [],
   "source": [
    "image_folder = r\"C:\\Users\\Nimra Amer\\Desktop\\project\\traffic_lights_3\\train\\images(train)\" #For Trainning Set\n",
    "\n",
    "for filename in os.listdir(image_folder):\n",
    "    if filename.endswith(\".jpeg\") or filename.endswith(\".jpg\") or filename.endswith(\".png\"):\n",
    "        # Read the original image\n",
    "        image_path = os.path.join(image_folder, filename)\n",
    "        original_image = cv2.imread(image_path)\n",
    "\n",
    "        # Determine orientation\n",
    "        scale_factor = 1.2\n",
    "        result_train_image = estimate_anchor_boxes(image_path, scale_factor)\n"
   ]
  },
  {
   "cell_type": "markdown",
   "metadata": {},
   "source": [
    "For Testing Set"
   ]
  },
  {
   "cell_type": "code",
   "execution_count": 22,
   "metadata": {},
   "outputs": [],
   "source": [
    "image_folder = r\"C:\\Users\\Nimra Amer\\Desktop\\project\\traffic_lights_3\\test\\images2(test)\" #For Trainning Set\n",
    "\n",
    "for filename in os.listdir(image_folder):\n",
    "    if filename.endswith(\".jpeg\") or filename.endswith(\".jpg\") or filename.endswith(\".png\"):\n",
    "        # Read the original image\n",
    "        image_path = os.path.join(image_folder, filename)\n",
    "        original_image = cv2.imread(image_path)\n",
    "\n",
    "        # Determine orientation\n",
    "        scale_factor = 1.2\n",
    "        result_test_image = estimate_anchor_boxes(image_path, scale_factor)"
   ]
  },
  {
   "cell_type": "markdown",
   "metadata": {},
   "source": [
    "Logistic Regression For Anchor Boxes"
   ]
  },
  {
   "cell_type": "code",
   "execution_count": 23,
   "metadata": {},
   "outputs": [
    {
     "name": "stdout",
     "output_type": "stream",
     "text": [
      "Accuracy :  99.21875 %\n",
      "Accuracy of The Testing Images: 39.70420932878271 %\n"
     ]
    }
   ],
   "source": [
    "def load_labels_from_folder(folder):\n",
    "    labels = []\n",
    "    for filename in os.listdir(folder):\n",
    "        path = os.path.join(folder, filename)\n",
    "        label = int('signal' in filename)   #Distribution in classes\n",
    "        labels.append(label)\n",
    "    return np.array(labels)\n",
    "\n",
    "train_labels_folder = r\"C:\\Users\\Nimra Amer\\Desktop\\project\\traffic_lights_3\\train\\labels\"\n",
    "test_labels_folder = r\"C:\\Users\\Nimra Amer\\Desktop\\project\\traffic_lights_3\\test\\labels\"\n",
    "\n",
    "# Loading labels\n",
    "y_train = load_labels_from_folder(train_labels_folder)\n",
    "y_test = load_labels_from_folder(test_labels_folder)\n",
    "\n",
    "# Condition for effective and accurate trainning and testing\n",
    "if len(y_train) == 0 or len(y_test) == 0:\n",
    "    print(\"No labels found in the specified folders.\")\n",
    "else:\n",
    "    scaler = StandardScaler()    # Resizing and Flattening the images to get the efficient output\n",
    "    new_width, new_height = 100, 100  \n",
    "    flattened_images_train = [cv2.resize(img, (new_width, new_height)).flatten() for img in result_train_image]\n",
    "    flattened_images_test = [cv2.resize(img, (new_width, new_height)).flatten() for img in result_test_image]\n",
    "\n",
    "    X_train_scaled = scaler.fit_transform(flattened_images_train)\n",
    "    X_test_scaled = scaler.transform(flattened_images_test)\n",
    "\n",
    "    y_train = y_train[:len(X_train_scaled)] #Ensuring that the sizes are same\n",
    "\n",
    "    X_train_final, X_val, y_train_final, y_val = train_test_split(X_train_scaled, y_train, test_size=0.2, random_state=42)\n",
    "\n",
    "    # Implementing Logistic Regression\n",
    "    model = LogisticRegression()\n",
    "    model.fit(X_train_final, y_train_final)\n",
    "    y_pred = model.predict(X_val)\n",
    "\n",
    "    # Evaluating the model\n",
    "    accuracy = accuracy_score(y_val, y_pred)\n",
    "    print(\"Accuracy : \" , accuracy*100 , \"%\")\n",
    "\n",
    "    #Test Data\n",
    "    y_test_pred = model.predict(X_test_scaled)\n",
    "    num_normalization_per_sample = 2\n",
    "    y_test_pred = np.repeat(y_test_pred, num_normalization_per_sample)\n",
    "    y_test_pred = y_test_pred[:len(y_test)]\n",
    "\n",
    "    # Evaluate the model on the testing set\n",
    "    accuracy_test = accuracy_score(y_test, y_test_pred)\n",
    "    print(\"Accuracy of The Testing Images:\", accuracy_test*100 , \"%\")\n"
   ]
  },
  {
   "cell_type": "markdown",
   "metadata": {},
   "source": [
    "# <<  Part 4  Visualizing Models>>"
   ]
  },
  {
   "cell_type": "markdown",
   "metadata": {},
   "source": [
    "4.1 Augumented Images"
   ]
  },
  {
   "cell_type": "code",
   "execution_count": 13,
   "metadata": {},
   "outputs": [
    {
     "data": {
      "image/png": "[encoded data removed]",
      "text/plain": [
       "<Figure size 640x480 with 1 Axes>"
      ]
     },
     "metadata": {},
     "output_type": "display_data"
    }
   ],
   "source": [
    "cm = confusion_matrix(y_test, y_test_pred)\n",
    "sns.heatmap(cm, annot=True, fmt=\"d\", cmap=\"Blues\", cbar=False)\n",
    "plt.title(\"Confusion Matrix For Auguemnted Applied Images\")\n",
    "plt.xlabel(\"Predicted\")\n",
    "plt.ylabel(\"Actual\")\n",
    "plt.show()"
   ]
  },
  {
   "cell_type": "markdown",
   "metadata": {},
   "source": [
    "4.2 Normalizaed(Original) Images"
   ]
  },
  {
   "cell_type": "code",
   "execution_count": 19,
   "metadata": {},
   "outputs": [
    {
     "data": {
      "image/png": "[encoded data removed]",
      "text/plain": [
       "<Figure size 640x480 with 1 Axes>"
      ]
     },
     "metadata": {},
     "output_type": "display_data"
    }
   ],
   "source": [
    "cm = confusion_matrix(y_test, y_test_pred)\n",
    "sns.heatmap(cm, annot=True, fmt=\"d\", cmap=\"Blues\", cbar=False)\n",
    "plt.title(\"Confusion Matrix For Normalization Applied Images\")\n",
    "plt.xlabel(\"Predicted\")\n",
    "plt.ylabel(\"Actual\")\n",
    "plt.show()"
   ]
  },
  {
   "cell_type": "markdown",
   "metadata": {},
   "source": [
    "4.3 Anchor Box Images"
   ]
  },
  {
   "cell_type": "code",
   "execution_count": 28,
   "metadata": {},
   "outputs": [
    {
     "data": {
      "image/png": "[encoded data removed]",
      "text/plain": [
       "<Figure size 640x480 with 1 Axes>"
      ]
     },
     "metadata": {},
     "output_type": "display_data"
    }
   ],
   "source": [
    "cm = confusion_matrix(y_test, y_test_pred)\n",
    "sns.heatmap(cm, annot=True, fmt=\"d\", cmap=\"Blues\", cbar=False)\n",
    "plt.title(\"Confusion Matrix For Anchor Box Applied Images\")\n",
    "plt.xlabel(\"Predicted\")\n",
    "plt.ylabel(\"Actual\")\n",
    "plt.show()"
   ]
  }
 ],
 "metadata": {
  "kernelspec": {
   "display_name": "Python 3 (ipykernel)",
   "language": "python",
   "name": "python3"
  },
  "language_info": {
   "codemirror_mode": {
    "name": "ipython",
    "version": 3
   },
   "file_extension": ".py",
   "mimetype": "text/x-python",
   "name": "python",
   "nbconvert_exporter": "python",
   "pygments_lexer": "ipython3",
   "version": "3.10.7"
  }
 },
 "nbformat": 4,
 "nbformat_minor": 5
}
